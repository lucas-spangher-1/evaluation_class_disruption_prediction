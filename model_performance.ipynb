{
 "cells": [
  {
   "cell_type": "code",
   "execution_count": 1,
   "metadata": {},
   "outputs": [],
   "source": [
    "import numpy as np\n",
    "from model_eval import model_performance\n",
    "import json"
   ]
  },
  {
   "cell_type": "code",
   "execution_count": 28,
   "metadata": {},
   "outputs": [],
   "source": [
    "with open('dict_y_proba_shots_val.json', 'rb') as f: \n",
    "    dict_y_proba_shots_val = json.load(f)\n",
    "\n",
    "with open('dict_y_proba_shots_test.json', 'rb') as f: \n",
    "    dict_y_proba_shots_test = json.load(f)\n"
   ]
  },
  {
   "cell_type": "code",
   "execution_count": 40,
   "metadata": {},
   "outputs": [],
   "source": [
    "# Assuming dict_y_proba_shots_val and dict_y_proba_shots_test are loaded and contain lists as their values (we had to do this to json serialize, but \n",
    "# you can store them directly as nd.arrays if you want to avoid this step.)\n",
    "for shot in dict_y_proba_shots_val.keys():\n",
    "    for key in dict_y_proba_shots_val[shot].keys():\n",
    "        if isinstance(dict_y_proba_shots_val[shot][key], list):\n",
    "            dict_y_proba_shots_val[shot][key] = np.array(dict_y_proba_shots_val[shot][key])\n",
    "\n",
    "for shot in dict_y_proba_shots_test.keys():\n",
    "    for key in dict_y_proba_shots_test[shot].keys():\n",
    "        if isinstance(dict_y_proba_shots_test[shot][key], list):\n",
    "            dict_y_proba_shots_test[shot][key] = np.array(dict_y_proba_shots_test[shot][key])\n",
    "\n"
   ]
  },
  {
   "cell_type": "code",
   "execution_count": 33,
   "metadata": {},
   "outputs": [
    {
     "data": {
      "text/plain": [
       "['CMOD_1160809016', 'CMOD_1140522002', 'CMOD_1120804001', 'CMOD_1130902001']"
      ]
     },
     "execution_count": 33,
     "metadata": {},
     "output_type": "execute_result"
    }
   ],
   "source": [
    "list(dict_y_proba_shots_test.keys())[:5]"
   ]
  },
  {
   "cell_type": "code",
   "execution_count": null,
   "metadata": {},
   "outputs": [],
   "source": [
    "dict_y_proba_shots_test"
   ]
  },
  {
   "cell_type": "code",
   "execution_count": null,
   "metadata": {},
   "outputs": [],
   "source": [
    "dict_y_proba_shots_val"
   ]
  },
  {
   "cell_type": "code",
   "execution_count": 42,
   "metadata": {},
   "outputs": [
    {
     "data": {
      "text/plain": [
       "dict_keys(['proba_shot', 'time_untill_disrupt', 'time_shot', 'label_shot'])"
      ]
     },
     "execution_count": 42,
     "metadata": {},
     "output_type": "execute_result"
    }
   ],
   "source": [
    "dict_y_proba_shots_test['CMOD_1160809016'].keys()"
   ]
  },
  {
   "cell_type": "raw",
   "metadata": {},
   "source": [
    "Dictionary structure:\n",
    "\n",
    "- tokamak_shotID1:\n",
    "    - proba_shot\n",
    "    - time_shot\n",
    "    - time_untill_disrupt\n",
    "    - label_shot\n",
    "\n",
    "- tokamak_shotID2:\n",
    "    - proba_shot\n",
    "    - time_shot\n",
    "    - time_untill_disrupt\n",
    "    - label_shot\n",
    "..."
   ]
  },
  {
   "cell_type": "markdown",
   "metadata": {},
   "source": [
    "- `proba_shot` -> vector of dimension `[shot_length, 1]` of unrolled probabilities for a given shot\n",
    "- `time_shot` -> vector of dimension `[shot_length, 1]` of time \n",
    "- `time_untill_disrupt` -> vector of dimension `[shot_length, 1]` of time untill disruption (nan if non disruptive shot)\n",
    "- `label_shot` -> integer, true shot class"
   ]
  },
  {
   "cell_type": "code",
   "execution_count": 43,
   "metadata": {},
   "outputs": [
    {
     "data": {
      "text/plain": [
       "{'f1_score': 0.2935779816513761,\n",
       " 'f2_score': 0.5,\n",
       " 'recall_score': 0.9411764705882353,\n",
       " 'precision_score': 0.17391304347826086,\n",
       " 'roc_auc_score': 0.6086834733893558,\n",
       " 'accuracy_score': 0.36885245901639346,\n",
       " 'confusion_matrix': array([[29, 76],\n",
       "        [ 1, 16]]),\n",
       " 'tpr': 0.9411764705882353,\n",
       " 'fpr': 0.7238095238095238,\n",
       " 'AUC_zhu': 0.8462184873949579}"
      ]
     },
     "execution_count": 43,
     "metadata": {},
     "output_type": "execute_result"
    }
   ],
   "source": [
    "performance_calculator = model_performance()\n",
    "\n",
    "# Necessary inputs\n",
    "params_dict = {\n",
    "    'high_thr':.5,\n",
    "    'low_thr':.5,\n",
    "    't_hysteresis':0,\n",
    "    't_useful':.005\n",
    "    }\n",
    "\n",
    "metrics = [\n",
    "    'f1_score', \n",
    "    'f2_score', \n",
    "    'recall_score', \n",
    "    'precision_score', \n",
    "    'roc_auc_score', \n",
    "    'accuracy_score', \n",
    "    'confusion_matrix', \n",
    "    'tpr', \n",
    "    'fpr', \n",
    "    'AUC_zhu']\n",
    "\n",
    "\n",
    "# Compute metrics_report_\n",
    "val_metrics_report = performance_calculator.eval(\n",
    "    unrolled_proba = dict_y_proba_shots_val,\n",
    "    metrics = metrics,\n",
    "    params_dict = params_dict\n",
    ")\n",
    "\n",
    "val_metrics_report"
   ]
  },
  {
   "cell_type": "code",
   "execution_count": 44,
   "metadata": {},
   "outputs": [
    {
     "data": {
      "text/plain": [
       "{'f1_score': 0.6666666666666666,\n",
       " 'f2_score': 0.6666666666666666,\n",
       " 'recall_score': 0.6666666666666666,\n",
       " 'precision_score': 0.6666666666666666,\n",
       " 'roc_auc_score': 0.3333333333333333,\n",
       " 'accuracy_score': 0.5,\n",
       " 'confusion_matrix': array([[0, 1],\n",
       "        [1, 2]]),\n",
       " 'tpr': 0.6666666666666666,\n",
       " 'fpr': 1.0,\n",
       " 'AUC_zhu': 0.6666666666666666}"
      ]
     },
     "execution_count": 44,
     "metadata": {},
     "output_type": "execute_result"
    }
   ],
   "source": [
    "test_metrics_report = performance_calculator.eval(\n",
    "    unrolled_proba = dict_y_proba_shots_test,\n",
    "    metrics = metrics,\n",
    "    params_dict = params_dict\n",
    ")\n",
    "\n",
    "test_metrics_report"
   ]
  },
  {
   "cell_type": "code",
   "execution_count": null,
   "metadata": {},
   "outputs": [],
   "source": []
  }
 ],
 "metadata": {
  "kernelspec": {
   "display_name": "Python 3 (ipykernel)",
   "language": "python",
   "name": "python3"
  },
  "language_info": {
   "codemirror_mode": {
    "name": "ipython",
    "version": 3
   },
   "file_extension": ".py",
   "mimetype": "text/x-python",
   "name": "python",
   "nbconvert_exporter": "python",
   "pygments_lexer": "ipython3",
   "version": "3.8.0"
  }
 },
 "nbformat": 4,
 "nbformat_minor": 2
}
