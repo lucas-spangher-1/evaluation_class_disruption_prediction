{
 "cells": [
  {
   "cell_type": "code",
   "execution_count": 4,
   "metadata": {},
   "outputs": [],
   "source": [
    "import pickle\n",
    "import numpy as np\n",
    "from model_eval import model_performance"
   ]
  },
  {
   "cell_type": "code",
   "execution_count": 5,
   "metadata": {},
   "outputs": [],
   "source": [
    "with open('dict_y_proba_shots_val.pkl', 'rb') as f: \n",
    "    dict_y_proba_shots_val = pickle.load(f)\n",
    "\n",
    "with open('dict_y_proba_shots_test.pkl', 'rb') as f: \n",
    "    dict_y_proba_shots_test = pickle.load(f)"
   ]
  },
  {
   "cell_type": "code",
   "execution_count": 6,
   "metadata": {},
   "outputs": [
    {
     "data": {
      "text/plain": [
       "['D3D_156386', 'D3D_156475', 'D3D_156747', 'D3D_156784', 'D3D_156814']"
      ]
     },
     "execution_count": 6,
     "metadata": {},
     "output_type": "execute_result"
    }
   ],
   "source": [
    "list(dict_y_proba_shots_test.keys())[:5]"
   ]
  },
  {
   "cell_type": "code",
   "execution_count": null,
   "metadata": {},
   "outputs": [],
   "source": [
    "dict_y_proba_shots_test"
   ]
  },
  {
   "cell_type": "code",
   "execution_count": 4,
   "metadata": {},
   "outputs": [
    {
     "data": {
      "text/plain": [
       "dict_keys(['proba_shot', 'time_untill_disrupt', 'time_shot', 'label_shot'])"
      ]
     },
     "execution_count": 4,
     "metadata": {},
     "output_type": "execute_result"
    }
   ],
   "source": [
    "dict_y_proba_shots_test['D3D_156386'].keys()"
   ]
  },
  {
   "cell_type": "raw",
   "metadata": {},
   "source": [
    "Dictionary structure:\n",
    "\n",
    "- tokamak_shotID1:\n",
    "    - proba_shot\n",
    "    - time_shot\n",
    "    - time_untill_disrupt\n",
    "    - label_shot\n",
    "\n",
    "- tokamak_shotID2:\n",
    "    - proba_shot\n",
    "    - time_shot\n",
    "    - time_untill_disrupt\n",
    "    - label_shot\n",
    "..."
   ]
  },
  {
   "cell_type": "markdown",
   "metadata": {},
   "source": [
    "- `proba_shot` -> vector of dimension `[shot_length, 1]` of unrolled probabilities for a given shot\n",
    "- `time_shot` -> vector of dimension `[shot_length, 1]` of time \n",
    "- `time_untill_disrupt` -> vector of dimension `[shot_length, 1]` of time untill disruption (nan if non disruptive shot)\n",
    "- `label_shot` -> integer, true shot class"
   ]
  },
  {
   "cell_type": "code",
   "execution_count": 5,
   "metadata": {},
   "outputs": [
    {
     "data": {
      "text/plain": [
       "{'f1_score': 0.2935779816513761,\n",
       " 'f2_score': 0.5,\n",
       " 'recall_score': 0.9411764705882353,\n",
       " 'precision_score': 0.17391304347826086,\n",
       " 'roc_auc_score': 0.6086834733893558,\n",
       " 'accuracy_score': 0.36885245901639346,\n",
       " 'confusion_matrix': array([[29, 76],\n",
       "        [ 1, 16]]),\n",
       " 'tpr': 0.9411764705882353,\n",
       " 'fpr': 0.7238095238095238,\n",
       " 'AUC_zhu': 0.8462184873949579}"
      ]
     },
     "execution_count": 5,
     "metadata": {},
     "output_type": "execute_result"
    }
   ],
   "source": [
    "performance_calculator = model_performance()\n",
    "\n",
    "# Necessary inputs\n",
    "params_dict = {\n",
    "    'high_thr':.5,\n",
    "    'low_thr':.5,\n",
    "    't_hysteresis':0,\n",
    "    't_useful':.005\n",
    "    }\n",
    "\n",
    "metrics = [\n",
    "    'f1_score', \n",
    "    'f2_score', \n",
    "    'recall_score', \n",
    "    'precision_score', \n",
    "    'roc_auc_score', \n",
    "    'accuracy_score', \n",
    "    'confusion_matrix', \n",
    "    'tpr', \n",
    "    'fpr', \n",
    "    'AUC_zhu']\n",
    "\n",
    "\n",
    "# Compute metrics_report_\n",
    "val_metrics_report = performance_calculator.eval(\n",
    "    unrolled_proba = dict_y_proba_shots_val,\n",
    "    metrics = metrics,\n",
    "    params_dict = params_dict\n",
    ")\n",
    "\n",
    "val_metrics_report"
   ]
  },
  {
   "cell_type": "code",
   "execution_count": 6,
   "metadata": {},
   "outputs": [
    {
     "data": {
      "text/plain": [
       "{'f1_score': 0.2782608695652174,\n",
       " 'f2_score': 0.48192771084337344,\n",
       " 'recall_score': 0.9411764705882353,\n",
       " 'precision_score': 0.16326530612244897,\n",
       " 'roc_auc_score': 0.5801120448179271,\n",
       " 'accuracy_score': 0.319672131147541,\n",
       " 'confusion_matrix': array([[23, 82],\n",
       "        [ 1, 16]]),\n",
       " 'tpr': 0.9411764705882353,\n",
       " 'fpr': 0.780952380952381,\n",
       " 'AUC_zhu': 0.7955182072829131}"
      ]
     },
     "execution_count": 6,
     "metadata": {},
     "output_type": "execute_result"
    }
   ],
   "source": [
    "test_metrics_report = performance_calculator.eval(\n",
    "    unrolled_proba = dict_y_proba_shots_test,\n",
    "    metrics = metrics,\n",
    "    params_dict = params_dict\n",
    ")\n",
    "\n",
    "test_metrics_report"
   ]
  }
 ],
 "metadata": {
  "kernelspec": {
   "display_name": "Python 3 (ipykernel)",
   "language": "python",
   "name": "python3"
  },
  "language_info": {
   "codemirror_mode": {
    "name": "ipython",
    "version": 3
   },
   "file_extension": ".py",
   "mimetype": "text/x-python",
   "name": "python",
   "nbconvert_exporter": "python",
   "pygments_lexer": "ipython3",
   "version": "3.8.0"
  }
 },
 "nbformat": 4,
 "nbformat_minor": 2
}
